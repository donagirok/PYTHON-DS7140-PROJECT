{
 "cells": [
  {
   "cell_type": "markdown",
   "metadata": {},
   "source": [
    "## LOAD LIBRARIES"
   ]
  },
  {
   "cell_type": "code",
   "execution_count": 15,
   "metadata": {},
   "outputs": [],
   "source": [
    "import pandas as pd\n",
    "import numpy as np\n",
    "import matplotlib.pyplot as plt\n",
    "import seaborn as sns\n",
    "from sklearn.preprocessing import StandardScaler\n",
    "from sklearn.model_selection import train_test_split\n",
    "from sklearn.linear_model import LogisticRegression\n",
    "from sklearn.metrics import confusion_matrix, classification_report\n",
    "from sklearn.metrics import roc_auc_score, roc_curve\n",
    "from sklearn.metrics import precision_recall_curve, average_precision_score\n",
    "from sklearn.metrics import accuracy_score, f1_score\n",
    "from sklearn.metrics import precision_score, recall_score"
   ]
  },
  {
   "cell_type": "markdown",
   "metadata": {},
   "source": [
    "## LOAD DATA\n",
    "do basic data checks"
   ]
  },
  {
   "cell_type": "code",
   "execution_count": 16,
   "metadata": {},
   "outputs": [
    {
     "data": {
      "application/vnd.microsoft.datawrangler.viewer.v0+json": {
       "columns": [
        {
         "name": "index",
         "rawType": "int64",
         "type": "integer"
        },
        {
         "name": "Student_ID",
         "rawType": "object",
         "type": "string"
        },
        {
         "name": "Age",
         "rawType": "int64",
         "type": "integer"
        },
        {
         "name": "Gender",
         "rawType": "object",
         "type": "string"
        },
        {
         "name": "High_School_GPA",
         "rawType": "float64",
         "type": "float"
        },
        {
         "name": "SAT_Score",
         "rawType": "int64",
         "type": "integer"
        },
        {
         "name": "University_Ranking",
         "rawType": "int64",
         "type": "integer"
        },
        {
         "name": "University_GPA",
         "rawType": "float64",
         "type": "float"
        },
        {
         "name": "Field_of_Study",
         "rawType": "object",
         "type": "string"
        },
        {
         "name": "Internships_Completed",
         "rawType": "int64",
         "type": "integer"
        },
        {
         "name": "Projects_Completed",
         "rawType": "int64",
         "type": "integer"
        },
        {
         "name": "Certifications",
         "rawType": "int64",
         "type": "integer"
        },
        {
         "name": "Soft_Skills_Score",
         "rawType": "int64",
         "type": "integer"
        },
        {
         "name": "Networking_Score",
         "rawType": "int64",
         "type": "integer"
        },
        {
         "name": "Job_Offers",
         "rawType": "int64",
         "type": "integer"
        },
        {
         "name": "Starting_Salary",
         "rawType": "float64",
         "type": "float"
        },
        {
         "name": "Career_Satisfaction",
         "rawType": "int64",
         "type": "integer"
        },
        {
         "name": "Years_to_Promotion",
         "rawType": "int64",
         "type": "integer"
        },
        {
         "name": "Current_Job_Level",
         "rawType": "object",
         "type": "string"
        },
        {
         "name": "Work_Life_Balance",
         "rawType": "int64",
         "type": "integer"
        },
        {
         "name": "Entrepreneurship",
         "rawType": "object",
         "type": "string"
        }
       ],
       "conversionMethod": "pd.DataFrame",
       "ref": "f812556e-eb80-42c4-9ee3-a888ee15424d",
       "rows": [
        [
         "0",
         "S00001",
         "24",
         "Male",
         "3.58",
         "1052",
         "291",
         "3.96",
         "Arts",
         "3",
         "7",
         "2",
         "9",
         "8",
         "5",
         "27200.0",
         "4",
         "5",
         "Entry",
         "7",
         "No"
        ],
        [
         "1",
         "S00002",
         "21",
         "Other",
         "2.52",
         "1211",
         "112",
         "3.63",
         "Law",
         "4",
         "7",
         "3",
         "8",
         "1",
         "4",
         "25000.0",
         "1",
         "1",
         "Mid",
         "7",
         "No"
        ],
        [
         "2",
         "S00003",
         "28",
         "Female",
         "3.42",
         "1193",
         "715",
         "2.63",
         "Medicine",
         "4",
         "8",
         "1",
         "1",
         "9",
         "0",
         "42400.0",
         "9",
         "3",
         "Entry",
         "7",
         "No"
        ],
        [
         "3",
         "S00004",
         "25",
         "Male",
         "2.43",
         "1497",
         "170",
         "2.81",
         "Computer Science",
         "3",
         "9",
         "1",
         "10",
         "6",
         "1",
         "57400.0",
         "7",
         "5",
         "Mid",
         "5",
         "No"
        ],
        [
         "4",
         "S00005",
         "22",
         "Male",
         "2.08",
         "1012",
         "599",
         "2.48",
         "Engineering",
         "4",
         "6",
         "4",
         "10",
         "9",
         "4",
         "47600.0",
         "9",
         "5",
         "Entry",
         "2",
         "No"
        ]
       ],
       "shape": {
        "columns": 20,
        "rows": 5
       }
      },
      "text/html": [
       "<div>\n",
       "<style scoped>\n",
       "    .dataframe tbody tr th:only-of-type {\n",
       "        vertical-align: middle;\n",
       "    }\n",
       "\n",
       "    .dataframe tbody tr th {\n",
       "        vertical-align: top;\n",
       "    }\n",
       "\n",
       "    .dataframe thead th {\n",
       "        text-align: right;\n",
       "    }\n",
       "</style>\n",
       "<table border=\"1\" class=\"dataframe\">\n",
       "  <thead>\n",
       "    <tr style=\"text-align: right;\">\n",
       "      <th></th>\n",
       "      <th>Student_ID</th>\n",
       "      <th>Age</th>\n",
       "      <th>Gender</th>\n",
       "      <th>High_School_GPA</th>\n",
       "      <th>SAT_Score</th>\n",
       "      <th>University_Ranking</th>\n",
       "      <th>University_GPA</th>\n",
       "      <th>Field_of_Study</th>\n",
       "      <th>Internships_Completed</th>\n",
       "      <th>Projects_Completed</th>\n",
       "      <th>Certifications</th>\n",
       "      <th>Soft_Skills_Score</th>\n",
       "      <th>Networking_Score</th>\n",
       "      <th>Job_Offers</th>\n",
       "      <th>Starting_Salary</th>\n",
       "      <th>Career_Satisfaction</th>\n",
       "      <th>Years_to_Promotion</th>\n",
       "      <th>Current_Job_Level</th>\n",
       "      <th>Work_Life_Balance</th>\n",
       "      <th>Entrepreneurship</th>\n",
       "    </tr>\n",
       "  </thead>\n",
       "  <tbody>\n",
       "    <tr>\n",
       "      <th>0</th>\n",
       "      <td>S00001</td>\n",
       "      <td>24</td>\n",
       "      <td>Male</td>\n",
       "      <td>3.58</td>\n",
       "      <td>1052</td>\n",
       "      <td>291</td>\n",
       "      <td>3.96</td>\n",
       "      <td>Arts</td>\n",
       "      <td>3</td>\n",
       "      <td>7</td>\n",
       "      <td>2</td>\n",
       "      <td>9</td>\n",
       "      <td>8</td>\n",
       "      <td>5</td>\n",
       "      <td>27200.0</td>\n",
       "      <td>4</td>\n",
       "      <td>5</td>\n",
       "      <td>Entry</td>\n",
       "      <td>7</td>\n",
       "      <td>No</td>\n",
       "    </tr>\n",
       "    <tr>\n",
       "      <th>1</th>\n",
       "      <td>S00002</td>\n",
       "      <td>21</td>\n",
       "      <td>Other</td>\n",
       "      <td>2.52</td>\n",
       "      <td>1211</td>\n",
       "      <td>112</td>\n",
       "      <td>3.63</td>\n",
       "      <td>Law</td>\n",
       "      <td>4</td>\n",
       "      <td>7</td>\n",
       "      <td>3</td>\n",
       "      <td>8</td>\n",
       "      <td>1</td>\n",
       "      <td>4</td>\n",
       "      <td>25000.0</td>\n",
       "      <td>1</td>\n",
       "      <td>1</td>\n",
       "      <td>Mid</td>\n",
       "      <td>7</td>\n",
       "      <td>No</td>\n",
       "    </tr>\n",
       "    <tr>\n",
       "      <th>2</th>\n",
       "      <td>S00003</td>\n",
       "      <td>28</td>\n",
       "      <td>Female</td>\n",
       "      <td>3.42</td>\n",
       "      <td>1193</td>\n",
       "      <td>715</td>\n",
       "      <td>2.63</td>\n",
       "      <td>Medicine</td>\n",
       "      <td>4</td>\n",
       "      <td>8</td>\n",
       "      <td>1</td>\n",
       "      <td>1</td>\n",
       "      <td>9</td>\n",
       "      <td>0</td>\n",
       "      <td>42400.0</td>\n",
       "      <td>9</td>\n",
       "      <td>3</td>\n",
       "      <td>Entry</td>\n",
       "      <td>7</td>\n",
       "      <td>No</td>\n",
       "    </tr>\n",
       "    <tr>\n",
       "      <th>3</th>\n",
       "      <td>S00004</td>\n",
       "      <td>25</td>\n",
       "      <td>Male</td>\n",
       "      <td>2.43</td>\n",
       "      <td>1497</td>\n",
       "      <td>170</td>\n",
       "      <td>2.81</td>\n",
       "      <td>Computer Science</td>\n",
       "      <td>3</td>\n",
       "      <td>9</td>\n",
       "      <td>1</td>\n",
       "      <td>10</td>\n",
       "      <td>6</td>\n",
       "      <td>1</td>\n",
       "      <td>57400.0</td>\n",
       "      <td>7</td>\n",
       "      <td>5</td>\n",
       "      <td>Mid</td>\n",
       "      <td>5</td>\n",
       "      <td>No</td>\n",
       "    </tr>\n",
       "    <tr>\n",
       "      <th>4</th>\n",
       "      <td>S00005</td>\n",
       "      <td>22</td>\n",
       "      <td>Male</td>\n",
       "      <td>2.08</td>\n",
       "      <td>1012</td>\n",
       "      <td>599</td>\n",
       "      <td>2.48</td>\n",
       "      <td>Engineering</td>\n",
       "      <td>4</td>\n",
       "      <td>6</td>\n",
       "      <td>4</td>\n",
       "      <td>10</td>\n",
       "      <td>9</td>\n",
       "      <td>4</td>\n",
       "      <td>47600.0</td>\n",
       "      <td>9</td>\n",
       "      <td>5</td>\n",
       "      <td>Entry</td>\n",
       "      <td>2</td>\n",
       "      <td>No</td>\n",
       "    </tr>\n",
       "  </tbody>\n",
       "</table>\n",
       "</div>"
      ],
      "text/plain": [
       "  Student_ID  Age  Gender  High_School_GPA  SAT_Score  University_Ranking  \\\n",
       "0     S00001   24    Male             3.58       1052                 291   \n",
       "1     S00002   21   Other             2.52       1211                 112   \n",
       "2     S00003   28  Female             3.42       1193                 715   \n",
       "3     S00004   25    Male             2.43       1497                 170   \n",
       "4     S00005   22    Male             2.08       1012                 599   \n",
       "\n",
       "   University_GPA    Field_of_Study  Internships_Completed  \\\n",
       "0            3.96              Arts                      3   \n",
       "1            3.63               Law                      4   \n",
       "2            2.63          Medicine                      4   \n",
       "3            2.81  Computer Science                      3   \n",
       "4            2.48       Engineering                      4   \n",
       "\n",
       "   Projects_Completed  Certifications  Soft_Skills_Score  Networking_Score  \\\n",
       "0                   7               2                  9                 8   \n",
       "1                   7               3                  8                 1   \n",
       "2                   8               1                  1                 9   \n",
       "3                   9               1                 10                 6   \n",
       "4                   6               4                 10                 9   \n",
       "\n",
       "   Job_Offers  Starting_Salary  Career_Satisfaction  Years_to_Promotion  \\\n",
       "0           5          27200.0                    4                   5   \n",
       "1           4          25000.0                    1                   1   \n",
       "2           0          42400.0                    9                   3   \n",
       "3           1          57400.0                    7                   5   \n",
       "4           4          47600.0                    9                   5   \n",
       "\n",
       "  Current_Job_Level  Work_Life_Balance Entrepreneurship  \n",
       "0             Entry                  7               No  \n",
       "1               Mid                  7               No  \n",
       "2             Entry                  7               No  \n",
       "3               Mid                  5               No  \n",
       "4             Entry                  2               No  "
      ]
     },
     "execution_count": 16,
     "metadata": {},
     "output_type": "execute_result"
    }
   ],
   "source": [
    "# Load the data\n",
    "data = pd.read_csv('./data/education_career_success.csv')\n",
    "data.head()"
   ]
  },
  {
   "cell_type": "code",
   "execution_count": 17,
   "metadata": {},
   "outputs": [
    {
     "data": {
      "text/plain": [
       "0"
      ]
     },
     "execution_count": 17,
     "metadata": {},
     "output_type": "execute_result"
    }
   ],
   "source": [
    "# Check for missing values\n",
    "data.isna().sum().sum()"
   ]
  },
  {
   "cell_type": "code",
   "execution_count": 18,
   "metadata": {},
   "outputs": [
    {
     "data": {
      "text/plain": [
       "(5000, 20)"
      ]
     },
     "execution_count": 18,
     "metadata": {},
     "output_type": "execute_result"
    }
   ],
   "source": [
    "# Check the dimensions of the data\n",
    "data.shape"
   ]
  },
  {
   "cell_type": "markdown",
   "metadata": {},
   "source": [
    "## EXPLORATORY DATA ANALYSIS"
   ]
  },
  {
   "cell_type": "code",
   "execution_count": 19,
   "metadata": {},
   "outputs": [
    {
     "data": {
      "text/plain": [
       "Student_ID                object\n",
       "Age                        int64\n",
       "Gender                    object\n",
       "High_School_GPA          float64\n",
       "SAT_Score                  int64\n",
       "University_Ranking         int64\n",
       "University_GPA           float64\n",
       "Field_of_Study            object\n",
       "Internships_Completed      int64\n",
       "Projects_Completed         int64\n",
       "Certifications             int64\n",
       "Soft_Skills_Score          int64\n",
       "Networking_Score           int64\n",
       "Job_Offers                 int64\n",
       "Starting_Salary          float64\n",
       "Career_Satisfaction        int64\n",
       "Years_to_Promotion         int64\n",
       "Current_Job_Level         object\n",
       "Work_Life_Balance          int64\n",
       "Entrepreneurship          object\n",
       "dtype: object"
      ]
     },
     "execution_count": 19,
     "metadata": {},
     "output_type": "execute_result"
    }
   ],
   "source": [
    "# Check the data types\n",
    "data.dtypes"
   ]
  },
  {
   "cell_type": "code",
   "execution_count": 20,
   "metadata": {},
   "outputs": [
    {
     "data": {
      "text/plain": [
       "Job_Offers\n",
       "2    856\n",
       "0    848\n",
       "5    843\n",
       "3    826\n",
       "1    823\n",
       "4    804\n",
       "Name: count, dtype: int64"
      ]
     },
     "execution_count": 20,
     "metadata": {},
     "output_type": "execute_result"
    }
   ],
   "source": [
    "# Check the distribution of the target variable\n",
    "data['Job_Offers'].value_counts()"
   ]
  },
  {
   "cell_type": "code",
   "execution_count": null,
   "metadata": {},
   "outputs": [
    {
     "data": {
      "text/plain": [
       "Job_Offers\n",
       "2    856\n",
       "0    848\n",
       "5    843\n",
       "3    826\n",
       "1    823\n",
       "4    804\n",
       "Name: count, dtype: int64"
      ]
     },
     "execution_count": 23,
     "metadata": {},
     "output_type": "execute_result"
    }
   ],
   "source": [
    "# create a table to show distribution of the target variable categories\n",
    "DIST_TARGET = data['Job_Offers'].value_counts()\n",
    "DIST_TARGET"
   ]
  },
  {
   "cell_type": "code",
   "execution_count": 24,
   "metadata": {},
   "outputs": [
    {
     "data": {
      "image/png": "[encoded data removed]",
      "text/plain": [
       "<Figure size 640x480 with 1 Axes>"
      ]
     },
     "metadata": {},
     "output_type": "display_data"
    }
   ],
   "source": [
    "# Check the distribution of the target variable\n",
    "sns.countplot(DIST_TARGET)\n",
    "plt.show()"
   ]
  },
  {
   "cell_type": "code",
   "execution_count": null,
   "metadata": {},
   "outputs": [],
   "source": []
  },
  {
   "cell_type": "markdown",
   "metadata": {},
   "source": [
    "## DATA CLEANING AND PREPROCESSING"
   ]
  },
  {
   "cell_type": "code",
   "execution_count": null,
   "metadata": {},
   "outputs": [],
   "source": []
  },
  {
   "cell_type": "code",
   "execution_count": null,
   "metadata": {},
   "outputs": [],
   "source": []
  },
  {
   "cell_type": "code",
   "execution_count": null,
   "metadata": {},
   "outputs": [],
   "source": []
  },
  {
   "cell_type": "markdown",
   "metadata": {},
   "source": [
    "## DATA MODELLING"
   ]
  },
  {
   "cell_type": "code",
   "execution_count": null,
   "metadata": {},
   "outputs": [],
   "source": []
  },
  {
   "cell_type": "code",
   "execution_count": null,
   "metadata": {},
   "outputs": [],
   "source": []
  },
  {
   "cell_type": "code",
   "execution_count": null,
   "metadata": {},
   "outputs": [],
   "source": []
  },
  {
   "cell_type": "code",
   "execution_count": null,
   "metadata": {},
   "outputs": [],
   "source": []
  }
 ],
 "metadata": {
  "kernelspec": {
   "display_name": "pyca",
   "language": "python",
   "name": "python3"
  },
  "language_info": {
   "codemirror_mode": {
    "name": "ipython",
    "version": 3
   },
   "file_extension": ".py",
   "mimetype": "text/x-python",
   "name": "python",
   "nbconvert_exporter": "python",
   "pygments_lexer": "ipython3",
   "version": "3.10.16"
  }
 },
 "nbformat": 4,
 "nbformat_minor": 2
}
